{
 "cells": [
  {
   "cell_type": "code",
   "execution_count": 1,
   "metadata": {
    "collapsed": true
   },
   "outputs": [],
   "source": [
    "import os\n",
    "import json\n",
    "import re\n",
    "from datetime import timezone, datetime"
   ]
  },
  {
   "cell_type": "code",
   "execution_count": 31,
   "outputs": [],
   "source": [
    "# Create a file list\n",
    "def list_files(dir, corp_dirs):\n",
    "    r = []\n",
    "    for root, dirs, files in os.walk(dir):\n",
    "        for name in files:\n",
    "            file_path = os.path.join(root, name)\n",
    "            corpus = [corp for corp in corp_dirs if corp in file_path][0]\n",
    "            r.append((file_path, corpus))\n",
    "    return r\n",
    "\n",
    "def cleaner(text):\n",
    "    text = re.sub(' +', ' ', text)\n",
    "    text = re.sub('\\n+', '\\n', text)\n",
    "    text = re.sub('\\t+', '\\t', text)\n",
    "    return text"
   ],
   "metadata": {
    "collapsed": false,
    "pycharm": {
     "name": "#%%\n"
    }
   }
  },
  {
   "cell_type": "code",
   "execution_count": 43,
   "outputs": [],
   "source": [
    "# dictionary that contains information about the corpus' sources\n",
    "corpora = {\n",
    "    '2b_articles': {\n",
    "        'info': \"The To Be Healthy Corpus contains articles from the medical website To Be Healthy (L'Hiyot Bari, 2b-bari)\",\n",
    "        'encoding': 'utf-8',\n",
    "        'counter': 0\n",
    "    },\n",
    "    '2b_forum': {\n",
    "        'info': \"The To Be Healthy Corpus contains forum discussions from the medical website To Be Healthy (L'Hiyot Bari, 2b-bari)\",\n",
    "        'encoding': 'utf-8',\n",
    "        'counter': 0\n",
    "    },\n",
    "    'a7_articles': {\n",
    "        'info': \"News and articles from the Arutz 7 news website, 2001-2006.\",\n",
    "        'encoding': 'cp1255',\n",
    "        'counter': 0\n",
    "    },\n",
    "    'doctors': {\n",
    "        'info': \"Articles from the Doctors medical website.\",\n",
    "        'encoding': 'utf-8',\n",
    "        'counter': 0\n",
    "    },\n",
    "    'haaretz_txt': {\n",
    "        'info': \"News and articles from the HaAretz news website, 1990-1991.\",\n",
    "        'encoding': 'utf-8',\n",
    "        'counter': 0\n",
    "    },\n",
    "    'infomed_06': {\n",
    "        'info': \"Question and answer discussions from the Infomed website's medical forum, from 2006\",\n",
    "        'encoding': 'utf-8',\n",
    "        'counter': 0\n",
    "    },\n",
    "    'infomed_07': {\n",
    "        'info': \"Question and answer discussions from the Infomed website's medical forum, from 2007\",\n",
    "        'encoding': 'utf-8',\n",
    "        'counter': 0\n",
    "    },\n",
    "    'knesset_16': {\n",
    "        'info': \"Session protocols of the Knesset (Israeli Parliament) during January 2004 - November 2005.\",\n",
    "        'encoding': 'cp1255',\n",
    "        'counter': 0\n",
    "    },\n",
    "    'knesset_17': {\n",
    "        'info': \" \tSession protocols of the Knesset (Israeli Parliament) during January 2004 - November 2005.\",\n",
    "        'encoding': 'cp1255',\n",
    "        'counter': 0\n",
    "    },\n",
    "    'tapuz_text1': {\n",
    "        'info': \"Forum discussions from the Tapuz People website, on a variety of subjects.\",\n",
    "        'encoding': 'utf-8',\n",
    "        'counter': 0\n",
    "    },\n",
    "    'tapuz_text2': {\n",
    "        'info': \"Forum discussions from the Tapuz People website, on a variety of subjects.\",\n",
    "        'encoding': 'utf-8',\n",
    "        'counter': 0\n",
    "    },\n",
    "    'themarker': {\n",
    "        'info': \"Articles from the TheMarker financial newspaper, May - October 2002.\",\n",
    "        'encoding': 'cp1255',\n",
    "        'counter': 0\n",
    "    },\n",
    "    'wallasport': {\n",
    "        'info': \"Articles from Walla Sport website, 2014-2015.\",\n",
    "        'encoding': 'utf-8',\n",
    "        'counter': 0\n",
    "    }\n",
    "}"
   ],
   "metadata": {
    "collapsed": false,
    "pycharm": {
     "name": "#%%\n"
    }
   }
  },
  {
   "cell_type": "code",
   "execution_count": 44,
   "outputs": [],
   "source": [
    "# The following code parses the .txt files into a dictionary that contains related metadata as well as the text itself\n",
    "dir = 'Data'\n",
    "file_list = list_files(dir, corpora)\n",
    "extracted_corpus = {}\n",
    "\n",
    "for file_path, corp in file_list:\n",
    "    with open(file_path, \"r\", encoding='utf-8') as f:\n",
    "        text = cleaner(f.read())\n",
    "        creation_ts = datetime.fromtimestamp(os.path.getmtime(file_path)).astimezone(timezone.utc).isoformat()\n",
    "        collection_ts = datetime.now().astimezone().replace(microsecond=0).isoformat()\n",
    "        corpora[corp]['counter'] += 1\n",
    "        id = f'{corp}_{corpora[corp][\"counter\"]}'\n",
    "        lang = 'heb'\n",
    "        possible_langs = ['eng']\n",
    "        extracted_corpus[id] = {\n",
    "            'lang': lang,\n",
    "            'possible_langs': possible_langs,\n",
    "            'creation_ts': creation_ts,\n",
    "            'collection_ts': collection_ts,\n",
    "            'corpus': corp,\n",
    "            'text': text\n",
    "        }"
   ],
   "metadata": {
    "collapsed": false,
    "pycharm": {
     "name": "#%%\n"
    }
   }
  },
  {
   "cell_type": "code",
   "execution_count": 45,
   "outputs": [],
   "source": [
    "# dump the dictionaries into .json files\n",
    "\n",
    "with open(\"MILA_corpus.json\", \"w\", encoding='utf-8') as file:\n",
    "    json.dump(extracted_corpus, file, ensure_ascii=False, indent=3)\n",
    "\n",
    "with open(\"MILA_resources.json\", \"w\", encoding='utf-8') as file:\n",
    "    json.dump(corpora, file, ensure_ascii=False, indent=3)"
   ],
   "metadata": {
    "collapsed": false,
    "pycharm": {
     "name": "#%%\n"
    }
   }
  }
 ],
 "metadata": {
  "kernelspec": {
   "display_name": "Python 3",
   "language": "python",
   "name": "python3"
  },
  "language_info": {
   "codemirror_mode": {
    "name": "ipython",
    "version": 2
   },
   "file_extension": ".py",
   "mimetype": "text/x-python",
   "name": "python",
   "nbconvert_exporter": "python",
   "pygments_lexer": "ipython2",
   "version": "2.7.6"
  }
 },
 "nbformat": 4,
 "nbformat_minor": 0
}